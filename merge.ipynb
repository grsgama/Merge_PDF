{
 "cells": [
  {
   "cell_type": "code",
   "execution_count": 4,
   "metadata": {},
   "outputs": [
    {
     "name": "stderr",
     "output_type": "stream",
     "text": [
      "Multiple definitions in dictionary at byte 0xd8135 for key /Info\n",
      "Multiple definitions in dictionary at byte 0xd8142 for key /Info\n",
      "Multiple definitions in dictionary at byte 0xd814f for key /Info\n",
      "Multiple definitions in dictionary at byte 0x15160c for key /Info\n",
      "Multiple definitions in dictionary at byte 0x151619 for key /Info\n",
      "Multiple definitions in dictionary at byte 0x151626 for key /Info\n"
     ]
    }
   ],
   "source": [
    "import PyPDF2\n",
    "\n",
    "# Cria um objeto PdfFileMerger\n",
    "merger = PyPDF2.PdfMerger()\n",
    "\n",
    "# Adiciona os arquivos PDF que serão mesclados\n",
    "for arquivo in [\"Curriculo_Lattes.pdf\", \"Daiana da Silva Santos-pos-descomplica.pdf\", \"declaração Daiana experiencia.pdf\",\n",
    "                \"diploma matematica daiana.pdf\",\n",
    "                \"diploma uerj.pdf\",\n",
    "                \"diplomamestradoufrrj.pdf\",\n",
    "                \"Doc1.pdf\",\n",
    "                \"Doc2.pdf\",\n",
    "                \"MAIL-A_1.pdf\",\n",
    "                \"PREDICAO_DA_RADIACAO_SOLAR_GLOBAL_USANDO_MODELOS_D-folha de rosto.pdf\",\n",
    "                \"View of Aplicação de redes neurais mlp na predição da evapotranspiração de referência _ Application of mlp neural networks in the prediction of reference evapotranspiration-folha de rosto.pdf\"]:\n",
    "    merger.append(arquivo)\n",
    "\n",
    "# Salva o arquivo PDF resultante\n",
    "merger.write(\"arquivo_mesclado.pdf\")"
   ]
  },
  {
   "cell_type": "code",
   "execution_count": 4,
   "metadata": {},
   "outputs": [
    {
     "name": "stderr",
     "output_type": "stream",
     "text": [
      "Multiple definitions in dictionary at byte 0xd8135 for key /Info\n",
      "Multiple definitions in dictionary at byte 0xd8142 for key /Info\n",
      "Multiple definitions in dictionary at byte 0xd814f for key /Info\n",
      "Multiple definitions in dictionary at byte 0x15160c for key /Info\n",
      "Multiple definitions in dictionary at byte 0x151619 for key /Info\n",
      "Multiple definitions in dictionary at byte 0x151626 for key /Info\n"
     ]
    }
   ],
   "source": [
    "import os\n",
    "import PyPDF2\n",
    "\n",
    "# Obtém a lista de arquivos PDF da pasta\n",
    "dir = \"C:\\\\Repositório\\\\Merge_PDF\"\n",
    "arquivos_pdf = os.listdir(dir)\n",
    "\n",
    "# Cria um objeto PdfFileMerger\n",
    "merger = PyPDF2.PdfMerger()\n",
    "\n",
    "# Adiciona os arquivos PDF da pasta ao objeto PdfFileMerger\n",
    "for arquivo in arquivos_pdf:\n",
    "    if arquivo.endswith(\".pdf\"):\n",
    "        merger.append(os.path.join(dir, arquivo))\n",
    "\n",
    "# Salva o arquivo PDF resultante\n",
    "merger.write(\"arquivo_mesclado.pdf\")\n"
   ]
  },
  {
   "cell_type": "code",
   "execution_count": null,
   "metadata": {},
   "outputs": [],
   "source": []
  }
 ],
 "metadata": {
  "kernelspec": {
   "display_name": "Python 3",
   "language": "python",
   "name": "python3"
  },
  "language_info": {
   "codemirror_mode": {
    "name": "ipython",
    "version": 3
   },
   "file_extension": ".py",
   "mimetype": "text/x-python",
   "name": "python",
   "nbconvert_exporter": "python",
   "pygments_lexer": "ipython3",
   "version": "3.11.3"
  },
  "orig_nbformat": 4
 },
 "nbformat": 4,
 "nbformat_minor": 2
}
