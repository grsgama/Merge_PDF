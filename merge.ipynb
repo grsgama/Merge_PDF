{
 "cells": [
  {
   "cell_type": "code",
   "execution_count": 1,
   "metadata": {},
   "outputs": [],
   "source": [
    "import PyPDF2\n",
    "\n",
    "# Cria um objeto PdfFileMerger\n",
    "merger = PyPDF2.PdfMerger()\n",
    "\n",
    "# Adiciona os arquivos PDF que serão mesclados\n",
    "for arquivo in [\"oi.pdf\", \"te.pdf\"]:\n",
    "    merger.append(arquivo)\n",
    "\n",
    "# Salva o arquivo PDF resultante\n",
    "merger.write(\"arquivo_mesclado.pdf\")"
   ]
  },
  {
   "cell_type": "code",
   "execution_count": null,
   "metadata": {},
   "outputs": [],
   "source": []
  }
 ],
 "metadata": {
  "kernelspec": {
   "display_name": "Python 3",
   "language": "python",
   "name": "python3"
  },
  "language_info": {
   "codemirror_mode": {
    "name": "ipython",
    "version": 3
   },
   "file_extension": ".py",
   "mimetype": "text/x-python",
   "name": "python",
   "nbconvert_exporter": "python",
   "pygments_lexer": "ipython3",
   "version": "3.11.3"
  },
  "orig_nbformat": 4
 },
 "nbformat": 4,
 "nbformat_minor": 2
}
